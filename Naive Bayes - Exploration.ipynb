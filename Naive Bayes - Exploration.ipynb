{
 "cells": [
  {
   "cell_type": "markdown",
   "metadata": {},
   "source": [
    "## Naive Bayes Classifiers\n",
    "A powerful and intutitive technique. File this one away, it'll often teach you a lot about a problem, even if it doesn't \"win\" the accuracy game. First some examples from NLTK."
   ]
  },
  {
   "cell_type": "code",
   "execution_count": 1,
   "metadata": {},
   "outputs": [],
   "source": [
    "import nltk\n",
    "\n",
    "from nltk.corpus import names\n",
    "import random\n",
    "from collections import Counter\n",
    "import re"
   ]
  },
  {
   "cell_type": "code",
   "execution_count": 2,
   "metadata": {},
   "outputs": [],
   "source": [
    "# Create some labeled observations\n",
    "labeled_names = ([(name, 'male') for name in names.words('male.txt')] +\n",
    "                 [(name, 'female') for name in names.words('female.txt')])\n",
    "\n",
    "# shuffle so that we can have a training and test set\n",
    "random.shuffle(labeled_names)"
   ]
  },
  {
   "cell_type": "code",
   "execution_count": 3,
   "metadata": {},
   "outputs": [],
   "source": [
    "# For the purposes of this toy example, we just use the last letters as our only feature\n",
    "def gender_features(word):\n",
    "    return {'last_letter': word[-1]}"
   ]
  },
  {
   "cell_type": "markdown",
   "metadata": {},
   "source": [
    "For this next line, read a bit about what's going on with this classifier [here](http://www.nltk.org/book/ch06.html). "
   ]
  },
  {
   "cell_type": "code",
   "execution_count": 4,
   "metadata": {},
   "outputs": [],
   "source": [
    "# This line is super important to understand\n",
    "featuresets = [(gender_features(n), gender) for (n, gender) in labeled_names]"
   ]
  },
  {
   "cell_type": "code",
   "execution_count": 5,
   "metadata": {},
   "outputs": [],
   "source": [
    "train_set, test_set = featuresets[500:], featuresets[:500]\n",
    "classifier = nltk.NaiveBayesClassifier.train(train_set)"
   ]
  },
  {
   "cell_type": "code",
   "execution_count": 6,
   "metadata": {},
   "outputs": [
    {
     "name": "stdout",
     "output_type": "stream",
     "text": [
      "0.776\n"
     ]
    }
   ],
   "source": [
    "# Test vs train\n",
    "print(nltk.classify.accuracy(classifier, test_set))"
   ]
  },
  {
   "cell_type": "markdown",
   "metadata": {},
   "source": [
    "Now something for you to do. Fill in the blanks in the cell below to look at how the classifier does on our class."
   ]
  },
  {
   "cell_type": "code",
   "execution_count": 10,
   "metadata": {},
   "outputs": [
    {
     "name": "stdout",
     "output_type": "stream",
     "text": [
      "Matt classified as male\n",
      "Oren classified as male\n",
      "Jamie classified as female\n",
      "Kristi classified as female\n",
      "Brad classified as male\n",
      "Megan classified as male\n",
      "Aiden classified as male\n",
      "Craig classified as male\n",
      "On our class, the accuracy is 0.875.\n"
     ]
    }
   ],
   "source": [
    "our_class = \"Matt Oren Jamie Kristi Brad Megan Aiden Craig\".split() # fill in our class here \n",
    "\n",
    "for student in our_class :\n",
    "    print(student + \" classified as \" + classifier.classify(gender_features(student)))\n",
    "\n",
    "# Calculate the overall accuracy\n",
    "errors = 1\n",
    "#print(\"On our class, the accuracy is {}.\".format(1-errors/len(our_class)))\n",
    "print(f\"On our class, the accuracy is {1-errors/len(our_class)}.\")"
   ]
  },
  {
   "cell_type": "code",
   "execution_count": 11,
   "metadata": {},
   "outputs": [
    {
     "data": {
      "text/plain": [
       "Counter({'female': 5001, 'male': 2943})"
      ]
     },
     "execution_count": 11,
     "metadata": {},
     "output_type": "execute_result"
    }
   ],
   "source": [
    "# Looking at the counts by gender can be useful for\n",
    "# understanding priors.\n",
    "Counter([gender for name, gender in labeled_names])"
   ]
  },
  {
   "cell_type": "code",
   "execution_count": 13,
   "metadata": {},
   "outputs": [
    {
     "name": "stdout",
     "output_type": "stream",
     "text": [
      "Most Informative Features\n",
      "             last_letter = 'k'              male : female =     44.8 : 1.0\n",
      "             last_letter = 'a'            female : male   =     36.2 : 1.0\n",
      "             last_letter = 'v'              male : female =     16.5 : 1.0\n",
      "             last_letter = 'f'              male : female =     16.1 : 1.0\n",
      "             last_letter = 'p'              male : female =     12.0 : 1.0\n",
      "             last_letter = 'd'              male : female =      9.8 : 1.0\n",
      "             last_letter = 'm'              male : female =      9.0 : 1.0\n",
      "             last_letter = 'o'              male : female =      7.9 : 1.0\n",
      "             last_letter = 'r'              male : female =      6.8 : 1.0\n",
      "             last_letter = 'z'              male : female =      5.6 : 1.0\n"
     ]
    }
   ],
   "source": [
    "# let's just look at all the features. Usually you'd only show a few\n",
    "classifier.show_most_informative_features()"
   ]
  },
  {
   "cell_type": "markdown",
   "metadata": {},
   "source": [
    "Now let's build up some data sets so we can do iterative improvements to our model. "
   ]
  },
  {
   "cell_type": "code",
   "execution_count": 14,
   "metadata": {},
   "outputs": [],
   "source": [
    "random.shuffle(labeled_names) # Use this to shuffle in place to build training and test set"
   ]
  },
  {
   "cell_type": "markdown",
   "metadata": {},
   "source": [
    "This next cell is worth understanding. Ask questions if it is opaque. "
   ]
  },
  {
   "cell_type": "code",
   "execution_count": 15,
   "metadata": {},
   "outputs": [],
   "source": [
    "test_size = 500\n",
    "devtest_size = 1000\n",
    "\n",
    "train_names = labeled_names[(test_size + devtest_size):]\n",
    "devtest_names = labeled_names[test_size:(test_size + devtest_size)]\n",
    "test_names = labeled_names[:test_size]"
   ]
  },
  {
   "cell_type": "code",
   "execution_count": 16,
   "metadata": {},
   "outputs": [
    {
     "name": "stdout",
     "output_type": "stream",
     "text": [
      "0.78\n"
     ]
    }
   ],
   "source": [
    "train_set = [(gender_features(n), gender) for (n, gender) in train_names]\n",
    "devtest_set = [(gender_features(n), gender) for (n, gender) in devtest_names]\n",
    "test_set = [(gender_features(n), gender) for (n, gender) in test_names]\n",
    "classifier = nltk.NaiveBayesClassifier.train(train_set)\n",
    "print(nltk.classify.accuracy(classifier, devtest_set))"
   ]
  },
  {
   "cell_type": "code",
   "execution_count": 17,
   "metadata": {},
   "outputs": [],
   "source": [
    "errors = []\n",
    "for (name, tag) in devtest_names:\n",
    "    guess = classifier.classify(gender_features(name))\n",
    "    if guess != tag:\n",
    "        errors.append( (tag, guess, name) )"
   ]
  },
  {
   "cell_type": "markdown",
   "metadata": {},
   "source": [
    "Read the results of the cells below, and form some hypotheses of additional features to add. "
   ]
  },
  {
   "cell_type": "code",
   "execution_count": 18,
   "metadata": {},
   "outputs": [
    {
     "name": "stdout",
     "output_type": "stream",
     "text": [
      "correct=female   guess=male     name=Aigneis                       \n",
      "correct=female   guess=male     name=Allyn                         \n",
      "correct=female   guess=male     name=Allyson                       \n",
      "correct=female   guess=male     name=Alys                          \n",
      "correct=female   guess=male     name=Amargo                        \n",
      "correct=female   guess=male     name=Ambur                         \n",
      "correct=female   guess=male     name=Anabel                        \n",
      "correct=female   guess=male     name=Angel                         \n",
      "correct=female   guess=male     name=Ardelis                       \n",
      "correct=female   guess=male     name=Ashlen                        \n",
      "correct=female   guess=male     name=Bab                           \n",
      "correct=female   guess=male     name=Beau                          \n",
      "correct=female   guess=male     name=Bel                           \n",
      "correct=female   guess=male     name=Berget                        \n",
      "correct=female   guess=male     name=Beryl                         \n",
      "correct=female   guess=male     name=Bev                           \n",
      "correct=female   guess=male     name=Bridget                       \n",
      "correct=female   guess=male     name=Brit                          \n",
      "correct=female   guess=male     name=Brook                         \n",
      "correct=female   guess=male     name=Carlen                        \n",
      "correct=female   guess=male     name=Carlin                        \n",
      "correct=female   guess=male     name=Carmen                        \n",
      "correct=female   guess=male     name=Caroljean                     \n",
      "correct=female   guess=male     name=Catherin                      \n",
      "correct=female   guess=male     name=Cathrin                       \n",
      "correct=female   guess=male     name=Christabel                    \n",
      "correct=female   guess=male     name=Dareen                        \n",
      "correct=female   guess=male     name=Deb                           \n",
      "correct=female   guess=male     name=Delores                       \n",
      "correct=female   guess=male     name=Devan                         \n",
      "correct=female   guess=male     name=Diamond                       \n",
      "correct=female   guess=male     name=Doreen                        \n",
      "correct=female   guess=male     name=Dorris                        \n",
      "correct=female   guess=male     name=Easter                        \n",
      "correct=female   guess=male     name=Eleanor                       \n",
      "correct=female   guess=male     name=Elisabet                      \n",
      "correct=female   guess=male     name=Ellen                         \n",
      "correct=female   guess=male     name=Ellynn                        \n",
      "correct=female   guess=male     name=Emlyn                         \n",
      "correct=female   guess=male     name=Emmalynn                      \n",
      "correct=female   guess=male     name=Eryn                          \n",
      "correct=female   guess=male     name=Estell                        \n",
      "correct=female   guess=male     name=Ethelind                      \n",
      "correct=female   guess=male     name=Ethyl                         \n",
      "correct=female   guess=male     name=Fanchon                       \n",
      "correct=female   guess=male     name=Farand                        \n",
      "correct=female   guess=male     name=Felicdad                      \n",
      "correct=female   guess=male     name=Fleur                         \n",
      "correct=female   guess=male     name=Frank                         \n",
      "correct=female   guess=male     name=Gael                          \n",
      "correct=female   guess=male     name=Gayleen                       \n",
      "correct=female   guess=male     name=Gert                          \n",
      "correct=female   guess=male     name=Gertrud                       \n",
      "correct=female   guess=male     name=Gwendolin                     \n",
      "correct=female   guess=male     name=Harriet                       \n",
      "correct=female   guess=male     name=Harriett                      \n",
      "correct=female   guess=male     name=Harriott                      \n",
      "correct=female   guess=male     name=Hildagard                     \n",
      "correct=female   guess=male     name=Jaclin                        \n",
      "correct=female   guess=male     name=Janis                         \n",
      "correct=female   guess=male     name=Jaquelyn                      \n",
      "correct=female   guess=male     name=Jean                          \n",
      "correct=female   guess=male     name=Joleen                        \n",
      "correct=female   guess=male     name=Juliann                       \n",
      "correct=female   guess=male     name=Justin                        \n",
      "correct=female   guess=male     name=Katleen                       \n",
      "correct=female   guess=male     name=Kellyann                      \n",
      "correct=female   guess=male     name=Kerrin                        \n",
      "correct=female   guess=male     name=Kerstin                       \n",
      "correct=female   guess=male     name=Kial                          \n",
      "correct=female   guess=male     name=Kristel                       \n",
      "correct=female   guess=male     name=Kristen                       \n",
      "correct=female   guess=male     name=Lark                          \n",
      "correct=female   guess=male     name=Leanor                        \n",
      "correct=female   guess=male     name=Leeann                        \n",
      "correct=female   guess=male     name=Loreen                        \n",
      "correct=female   guess=male     name=Lust                          \n",
      "correct=female   guess=male     name=Lyndel                        \n",
      "correct=female   guess=male     name=Maren                         \n",
      "correct=female   guess=male     name=Margret                       \n",
      "correct=female   guess=male     name=Maribel                       \n",
      "correct=female   guess=male     name=Marilin                       \n",
      "correct=female   guess=male     name=Marit                         \n",
      "correct=female   guess=male     name=Marlyn                        \n",
      "correct=female   guess=male     name=Maryellen                     \n",
      "correct=female   guess=male     name=Meg                           \n",
      "correct=female   guess=male     name=Melisent                      \n",
      "correct=female   guess=male     name=Meriel                        \n",
      "correct=female   guess=male     name=Merl                          \n",
      "correct=female   guess=male     name=Michell                       \n",
      "correct=female   guess=male     name=Mildrid                       \n",
      "correct=female   guess=male     name=Mirabel                       \n",
      "correct=female   guess=male     name=Nadeen                        \n",
      "correct=female   guess=male     name=Noellyn                       \n",
      "correct=female   guess=male     name=Opal                          \n",
      "correct=female   guess=male     name=Pru                           \n",
      "correct=female   guess=male     name=Robbin                        \n",
      "correct=female   guess=male     name=Ros                           \n",
      "correct=female   guess=male     name=Rosabel                       \n",
      "correct=female   guess=male     name=Sallyann                      \n",
      "correct=female   guess=male     name=Sara-Ann                      \n",
      "correct=female   guess=male     name=Shawn                         \n",
      "correct=female   guess=male     name=Shel                          \n",
      "correct=female   guess=male     name=Shell                         \n",
      "correct=female   guess=male     name=Val                           \n",
      "correct=female   guess=male     name=Viv                           \n",
      "correct=female   guess=male     name=Vivian                        \n",
      "correct=female   guess=male     name=Winnifred                     \n",
      "correct=female   guess=male     name=Wynn                          \n",
      "correct=male     guess=female   name=Abbey                         \n",
      "correct=male     guess=female   name=Abby                          \n",
      "correct=male     guess=female   name=Alphonse                      \n",
      "correct=male     guess=female   name=Angie                         \n",
      "correct=male     guess=female   name=Artie                         \n",
      "correct=male     guess=female   name=Bailey                        \n",
      "correct=male     guess=female   name=Baillie                       \n",
      "correct=male     guess=female   name=Barclay                       \n",
      "correct=male     guess=female   name=Barnaby                       \n",
      "correct=male     guess=female   name=Bartolomei                    \n",
      "correct=male     guess=female   name=Billie                        \n",
      "correct=male     guess=female   name=Carey                         \n",
      "correct=male     guess=female   name=Carleigh                      \n",
      "correct=male     guess=female   name=Cary                          \n",
      "correct=male     guess=female   name=Chaunce                       \n",
      "correct=male     guess=female   name=Christy                       \n",
      "correct=male     guess=female   name=Cyrille                       \n",
      "correct=male     guess=female   name=Dante                         \n",
      "correct=male     guess=female   name=Denny                         \n",
      "correct=male     guess=female   name=Dickey                        \n",
      "correct=male     guess=female   name=Dimitry                       \n",
      "correct=male     guess=female   name=Dryke                         \n",
      "correct=male     guess=female   name=Eddy                          \n",
      "correct=male     guess=female   name=Edie                          \n",
      "correct=male     guess=female   name=Ellsworth                     \n",
      "correct=male     guess=female   name=Ely                           \n",
      "correct=male     guess=female   name=Emery                         \n",
      "correct=male     guess=female   name=Esme                          \n",
      "correct=male     guess=female   name=Ferdie                        \n",
      "correct=male     guess=female   name=Franky                        \n",
      "correct=male     guess=female   name=Garcia                        \n",
      "correct=male     guess=female   name=George                        \n",
      "correct=male     guess=female   name=Gerri                         \n",
      "correct=male     guess=female   name=Godfry                        \n",
      "correct=male     guess=female   name=Graehme                       \n",
      "correct=male     guess=female   name=Guthrie                       \n",
      "correct=male     guess=female   name=Hadleigh                      \n",
      "correct=male     guess=female   name=Hamish                        \n",
      "correct=male     guess=female   name=Howie                         \n",
      "correct=male     guess=female   name=Huntlee                       \n",
      "correct=male     guess=female   name=Ike                           \n",
      "correct=male     guess=female   name=Isadore                       \n",
      "correct=male     guess=female   name=Jamey                         \n",
      "correct=male     guess=female   name=Jeffie                        \n",
      "correct=male     guess=female   name=Jeremie                       \n",
      "correct=male     guess=female   name=Jeremy                        \n",
      "correct=male     guess=female   name=Jermayne                      \n",
      "correct=male     guess=female   name=Jerrome                       \n",
      "correct=male     guess=female   name=Jessey                        \n",
      "correct=male     guess=female   name=Jimmy                         \n",
      "correct=male     guess=female   name=Johnnie                       \n",
      "correct=male     guess=female   name=Jule                          \n",
      "correct=male     guess=female   name=Kalle                         \n",
      "correct=male     guess=female   name=Kane                          \n",
      "correct=male     guess=female   name=Keith                         \n",
      "correct=male     guess=female   name=Kennedy                       \n",
      "correct=male     guess=female   name=Kerry                         \n",
      "correct=male     guess=female   name=Krishna                       \n",
      "correct=male     guess=female   name=Lonny                         \n",
      "correct=male     guess=female   name=Marietta                      \n",
      "correct=male     guess=female   name=Marve                         \n",
      "correct=male     guess=female   name=Maurise                       \n",
      "correct=male     guess=female   name=Meade                         \n",
      "correct=male     guess=female   name=Moe                           \n",
      "correct=male     guess=female   name=Montague                      \n",
      "correct=male     guess=female   name=Morse                         \n",
      "correct=male     guess=female   name=Morty                         \n",
      "correct=male     guess=female   name=Neddy                         \n",
      "correct=male     guess=female   name=Ole                           \n",
      "correct=male     guess=female   name=Osbourne                      \n",
      "correct=male     guess=female   name=Paddy                         \n",
      "correct=male     guess=female   name=Pascale                       \n",
      "correct=male     guess=female   name=Pate                          \n",
      "correct=male     guess=female   name=Patty                         \n",
      "correct=male     guess=female   name=Peirce                        \n",
      "correct=male     guess=female   name=Penny                         \n",
      "correct=male     guess=female   name=Pete                          \n",
      "correct=male     guess=female   name=Rabi                          \n",
      "correct=male     guess=female   name=Radcliffe                     \n",
      "correct=male     guess=female   name=Rickey                        \n",
      "correct=male     guess=female   name=Ripley                        \n",
      "correct=male     guess=female   name=Ritchie                       \n",
      "correct=male     guess=female   name=Ruby                          \n",
      "correct=male     guess=female   name=Ruddie                        \n",
      "correct=male     guess=female   name=Rufe                          \n",
      "correct=male     guess=female   name=Rustie                        \n",
      "correct=male     guess=female   name=Rusty                         \n",
      "correct=male     guess=female   name=Salvatore                     \n",
      "correct=male     guess=female   name=Sasha                         \n",
      "correct=male     guess=female   name=Simone                        \n",
      "correct=male     guess=female   name=Spence                        \n",
      "correct=male     guess=female   name=Spike                         \n",
      "correct=male     guess=female   name=Stanley                       \n",
      "correct=male     guess=female   name=Steve                         \n",
      "correct=male     guess=female   name=Stevy                         \n",
      "correct=male     guess=female   name=Sydney                        \n",
      "correct=male     guess=female   name=Tammie                        \n",
      "correct=male     guess=female   name=Teddie                        \n",
      "correct=male     guess=female   name=Tracey                        \n",
      "correct=male     guess=female   name=Tuckie                        \n",
      "correct=male     guess=female   name=Udale                         \n",
      "correct=male     guess=female   name=Vince                         \n",
      "correct=male     guess=female   name=Waite                         \n",
      "correct=male     guess=female   name=Walsh                         \n",
      "correct=male     guess=female   name=Ware                          \n",
      "correct=male     guess=female   name=Welbie                        \n",
      "correct=male     guess=female   name=Whitney                       \n",
      "correct=male     guess=female   name=Willey                        \n",
      "correct=male     guess=female   name=Winnie                        \n",
      "correct=male     guess=female   name=Yance                         \n",
      "correct=male     guess=female   name=Zedekiah                      \n"
     ]
    }
   ],
   "source": [
    "for (tag, guess, name) in sorted(errors):\n",
    "    print('correct={:<8} guess={:<8s} name={:<30}'.format(tag, guess, name))"
   ]
  },
  {
   "cell_type": "markdown",
   "metadata": {},
   "source": [
    "At this point, look at the names that are being missed and see if you can add some features that will improve our accuracy. Some potential options:\n",
    "\n",
    "* Specific starting or ending letters.\n",
    "* Letters at the beginning or end of the name.\n",
    "* Patterns like doubled letters, etc. \n",
    "\n",
    "### Your work\n",
    "Make changes to the below cells to improve `gender_features_2`."
   ]
  },
  {
   "cell_type": "code",
   "execution_count": 19,
   "metadata": {},
   "outputs": [],
   "source": [
    "# Putting regexes in their own cell so they only have to be compiled once\n",
    "hyphen = re.compile(r'-') # here's an example."
   ]
  },
  {
   "cell_type": "code",
   "execution_count": 20,
   "metadata": {},
   "outputs": [],
   "source": [
    "# build your own function. Here's an example to get you started\n",
    "def gender_features_2(word):\n",
    "    ''' This function should take in a word and return a dictionary\n",
    "        with the name of the feature as the key and the value \n",
    "        as the feature value. '''\n",
    "    last_letter = word[-1]\n",
    "    first_letter = word[0]\n",
    "      \n",
    "    if hyphen.search(word) :\n",
    "        double = True\n",
    "    else :\n",
    "        double = False\n",
    "    \n",
    "    ret_dict = {'last_letter':last_letter,\n",
    "                'first_letter_c':first_letter==\"C\",\n",
    "                'first_letter_j':first_letter==\"J\",\n",
    "                'double_name' : double}\n",
    "    \n",
    "    return (ret_dict)"
   ]
  },
  {
   "cell_type": "code",
   "execution_count": 21,
   "metadata": {},
   "outputs": [
    {
     "name": "stdout",
     "output_type": "stream",
     "text": [
      "{'last_letter': 'n', 'first_letter_c': False, 'first_letter_j': True, 'double_name': False}\n",
      "{'last_letter': 'a', 'first_letter_c': False, 'first_letter_j': False, 'double_name': False}\n",
      "{'last_letter': 'n', 'first_letter_c': True, 'first_letter_j': False, 'double_name': True}\n"
     ]
    }
   ],
   "source": [
    "print(gender_features_2(\"John\"))\n",
    "print(gender_features_2(\"Harika\"))\n",
    "print(gender_features_2(\"Carrie-Ann\"))"
   ]
  },
  {
   "cell_type": "markdown",
   "metadata": {},
   "source": [
    "Now, having defined our new function, we can test it on `devtest`."
   ]
  },
  {
   "cell_type": "code",
   "execution_count": null,
   "metadata": {},
   "outputs": [],
   "source": [
    "train_set = [(gender_features_2(n), gender) for (n, gender) in train_names]\n",
    "devtest_set = [(gender_features_2(n), gender) for (n, gender) in devtest_names]\n",
    "test_set = [(gender_features_2(n), gender) for (n, gender) in test_names]\n",
    "\n",
    "classifier = nltk.NaiveBayesClassifier.train(train_set)\n",
    "print(nltk.classify.accuracy(classifier, devtest_set))"
   ]
  },
  {
   "cell_type": "markdown",
   "metadata": {},
   "source": [
    "And you can look at the features and the errors:"
   ]
  },
  {
   "cell_type": "code",
   "execution_count": null,
   "metadata": {},
   "outputs": [],
   "source": [
    "classifier.show_most_informative_features(30)"
   ]
  },
  {
   "cell_type": "code",
   "execution_count": null,
   "metadata": {},
   "outputs": [],
   "source": [
    "for (tag, guess, name) in sorted(errors):\n",
    "    print('correct={:<8} guess={:<8s} name={:<30}'.format(tag, guess, name))"
   ]
  },
  {
   "cell_type": "markdown",
   "metadata": {},
   "source": [
    "Don't run this next cell till you're _completely_ done tweaking your `gender_features_2` code. "
   ]
  },
  {
   "cell_type": "code",
   "execution_count": null,
   "metadata": {},
   "outputs": [],
   "source": [
    "# Once you're done tweaking your code, run this one. \n",
    "print(nltk.classify.accuracy(classifier, test_set))"
   ]
  },
  {
   "cell_type": "markdown",
   "metadata": {},
   "source": [
    "So that estimate is your unbiased estimate of your classifier accuracy. "
   ]
  }
 ],
 "metadata": {
  "kernelspec": {
   "display_name": "Python 3",
   "language": "python",
   "name": "python3"
  },
  "language_info": {
   "codemirror_mode": {
    "name": "ipython",
    "version": 3
   },
   "file_extension": ".py",
   "mimetype": "text/x-python",
   "name": "python",
   "nbconvert_exporter": "python",
   "pygments_lexer": "ipython3",
   "version": "3.7.3"
  }
 },
 "nbformat": 4,
 "nbformat_minor": 1
}
